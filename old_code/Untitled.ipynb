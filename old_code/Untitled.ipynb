{
 "cells": [
  {
   "cell_type": "code",
   "execution_count": 1,
   "metadata": {},
   "outputs": [],
   "source": [
    "import os\n",
    "import numpy as np\n",
    "import pandas as pd\n",
    "import matplotlib.pyplot as plt\n",
    "import nibabel as nib\n",
    "\n",
    "from nilearn.plotting import plot_stat_map, plot_anat, plot_img\n",
    "from nilearn.image import mean_img, image, new_img_like\n",
    "from nilearn.input_data import NiftiMasker\n",
    "\n",
    "from nistats.first_level_model import FirstLevelModel\n",
    "from nistats.reporting import plot_design_matrix\n",
    "\n",
    "from fc_config import *\n",
    "\n",
    "from glm_timing import glm_timing\n",
    "\n",
    "from preprocess_library import meta"
   ]
  },
  {
   "cell_type": "code",
   "execution_count": 2,
   "metadata": {},
   "outputs": [],
   "source": [
    "sub = 1\n",
    "subj = meta(sub)\n",
    "phase = 'fear_conditioning'\n",
    "events = glm_timing(sub,phase).phase_events()\n",
    "func = os.path.join(subj.bold_dir,nifti_paths[phase])"
   ]
  },
  {
   "cell_type": "code",
   "execution_count": 3,
   "metadata": {},
   "outputs": [],
   "source": [
    "masker = NiftiMasker(mask_img=subj.brainmask, smoothing_fwhm=5, detrend=True,\n",
    "                    high_pass=0.0078, t_r=2, standardize=True).fit(imgs=func)"
   ]
  },
  {
   "cell_type": "code",
   "execution_count": 4,
   "metadata": {},
   "outputs": [],
   "source": [
    "glm = FirstLevelModel(t_r=2, mask=masker, slice_time_ref=.5, hrf_model='glover + derivative', signal_scaling=False, verbose=2, minimize_memory=False)"
   ]
  },
  {
   "cell_type": "code",
   "execution_count": 7,
   "metadata": {},
   "outputs": [
    {
     "name": "stderr",
     "output_type": "stream",
     "text": [
      "/Users/ach3377/anaconda/lib/python3.6/site-packages/ipykernel_launcher.py:1: UserWarning: loadtxt: Empty input file: \"/Users/ach3377/Db_lpl/STUDY/FearCon/Sub001/bold/day1/run002/motion_assess/confound.txt\"\n",
      "  \"\"\"Entry point for launching an IPython kernel.\n"
     ]
    }
   ],
   "source": [
    "motion_confounds = np.loadtxt(os.path.join(subj.bold_dir, phase2rundir[phase], 'motion_assess', 'confound.txt'))\n",
    "if len(motion_confounds) > 0:\n",
    "\n",
    "    if len(motion_confounds.shape) == 2:\n",
    "        _columns = range(motion_confounds.shape[1])\n",
    "    elif len(motion_confounds.shape) == 1:\n",
    "        _columns = range(1)\n",
    "\n",
    "    motion_confounds_df = pd.DataFrame(motion_confounds, columns=_columns)\n",
    "\n",
    "else: \n",
    "    motion_confounds_df = None"
   ]
  },
  {
   "cell_type": "code",
   "execution_count": 8,
   "metadata": {},
   "outputs": [],
   "source": [
    "glm = glm.fit(func, events, confounds=motion_confounds_df)\n",
    "design_matrix = glm.design_matrices_[0]"
   ]
  },
  {
   "cell_type": "code",
   "execution_count": null,
   "metadata": {},
   "outputs": [],
   "source": [
    "contrast_matrix = np.eye(design_matrix.shape[1])\n",
    "\n",
    "#fill out the rest of the contrast matrix with variables from the design matrix\n",
    "contrasts = dict([(column, contrast_matrix[i])\n",
    "    for i, column in enumerate(design_matrix.columns)])\n",
    "\n",
    "CSplus_minus_CSmin = contrasts['CS+'] - contrasts['CS-']\n",
    "contrast_ = CSplus_minus_CSmin"
   ]
  },
  {
   "cell_type": "code",
   "execution_count": null,
   "metadata": {},
   "outputs": [],
   "source": [
    "glm.compute_contrast(contrast_, stat_type='t', output_type='z_score')"
   ]
  },
  {
   "cell_type": "code",
   "execution_count": null,
   "metadata": {},
   "outputs": [],
   "source": [
    "glm.results_[0][0].predicted"
   ]
  },
  {
   "cell_type": "code",
   "execution_count": 15,
   "metadata": {},
   "outputs": [
    {
     "data": {
      "text/plain": [
       "list"
      ]
     },
     "execution_count": 15,
     "metadata": {},
     "output_type": "execute_result"
    }
   ],
   "source": [
    "type(glm.results_)"
   ]
  },
  {
   "cell_type": "code",
   "execution_count": null,
   "metadata": {},
   "outputs": [],
   "source": []
  }
 ],
 "metadata": {
  "kernelspec": {
   "display_name": "Python 3",
   "language": "python",
   "name": "python3"
  },
  "language_info": {
   "codemirror_mode": {
    "name": "ipython",
    "version": 3
   },
   "file_extension": ".py",
   "mimetype": "text/x-python",
   "name": "python",
   "nbconvert_exporter": "python",
   "pygments_lexer": "ipython3",
   "version": "3.6.4"
  }
 },
 "nbformat": 4,
 "nbformat_minor": 2
}
