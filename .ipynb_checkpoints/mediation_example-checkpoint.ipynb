{
 "cells": [
  {
   "cell_type": "markdown",
   "metadata": {},
   "source": [
    "## Lets talk about mediation\n",
    "Test whether effect of variable X on variable Y is in part explained by chain of effects through X on intervening mediator variable M, and of M on Y (X --> M --> Y).\n",
    "\n",
    "**Total effect** is the effect of X on Y\n",
    "\n",
    "An **Indirect effect** is the quantified estimated difference in Y resulting from one-unit change in X through the its effects on M. Significance arises from a CI that does not include 0. Bootstrapping the indirect effect is ideal, as simulation work has shown the distribution of indirect effects is non-normal.\n",
    "Sometimes called Average Causal Mediation Effect (ACME).\n",
    "\n",
    "**Direct effect** is the effect of X on Y, accounting for the effect of M on Y. Sometimes called Average Direct Effects (ADE).\n",
    "\n",
    "\n",
    "A mediation model is a set of regressions, and you can have multiple unrelated mediators for a given model.\n",
    "\n",
    "\n",
    "![image](medexample0.png)\n",
    "\n",
    "### Total Effect (c)\n",
    "$$Y = b_0 + b_1X + e$$\n",
    "$$ c = b_1 $$\n",
    "\n",
    "### Direct Effect (c')\n",
    "$$Y = b_0 + b_2X + b_3M + e$$\n",
    "$$ c' = b_2$$\n",
    "\n",
    "### Indirect Effect (ab)\n",
    "$$c = ab + c'$$\n",
    "$$ ab = c - c'$$\n",
    "\n",
    "---\n",
    "## Interpreting results\n",
    "\n",
    "If `ab` is significant, then there is a significant indirect effect.\n",
    "\n",
    "In addition, if `c` is significant and `ab` is significant, M may be a _full_ or _partial_ mediator:\n",
    "- If `c'` **is not significant**, M is a _full_ mediator.\n",
    "- If `c'` **is significant**, M is a _partial_ mediator.\n",
    "\n",
    "Be open to interpreting indirect effects,as long as there is a good _a priori_ theoretical reason for relating the variables. Below is a workflow designed to test for mediation, but if you follow the \"No's\" in this chart you will miss interesting intervening effects\n",
    "\n",
    "### Suggested workflow for mediation\n",
    "![img](https://data.library.virginia.edu/files/mediation_flowchart-1.png)"
   ]
  },
  {
   "cell_type": "code",
   "execution_count": null,
   "metadata": {},
   "outputs": [],
   "source": [
    "import os\n",
    "import numpy as np\n",
    "import pandas as pd\n",
    "import seaborn as sns\n",
    "import matplotlib.pyplot as plt\n",
    "import pingouin as pg\n",
    "from fc_config import *\n",
    "from wesanderson import wes_palettes\n",
    "from nilearn.input_data import NiftiMasker\n",
    "from glm_timing import glm_timing\n",
    "from mvpa_analysis import group_decode\n",
    "from signal_change import collect_ev\n",
    "from corr_plot import corr_plot\n",
    "from scipy.stats import linregress as lm\n",
    "#initialize seaborn parameters\n",
    "\n",
    "sns.set_context('notebook')\n",
    "sns.set_style('whitegrid')"
   ]
  },
  {
   "cell_type": "code",
   "execution_count": null,
   "metadata": {},
   "outputs": [],
   "source": [
    "df = pg.read_dataset('mediation') \n",
    "df.head()"
   ]
  },
  {
   "cell_type": "code",
   "execution_count": null,
   "metadata": {},
   "outputs": [],
   "source": [
    "# total path\n",
    "pg.linear_regression(df.X,df.Y)"
   ]
  },
  {
   "cell_type": "code",
   "execution_count": null,
   "metadata": {},
   "outputs": [],
   "source": [
    "# a path\n",
    "pg.linear_regression(df.X,df.M)"
   ]
  },
  {
   "cell_type": "code",
   "execution_count": null,
   "metadata": {},
   "outputs": [],
   "source": [
    "# b path\n",
    "pg.linear_regression(df.M,df.Y)"
   ]
  },
  {
   "cell_type": "code",
   "execution_count": null,
   "metadata": {},
   "outputs": [],
   "source": [
    "# c' (direct effect)\n",
    "pg.linear_regression(df[['X','M']],df.Y)"
   ]
  },
  {
   "cell_type": "code",
   "execution_count": null,
   "metadata": {},
   "outputs": [],
   "source": [
    "c = pg.linear_regression(df.X,df.Y)['coef'][1] # total effect\n",
    "c1 = pg.linear_regression(df[['X','M']],df.Y)['coef'][1] #direct path"
   ]
  },
  {
   "cell_type": "code",
   "execution_count": null,
   "metadata": {},
   "outputs": [],
   "source": [
    "#c = c1 + (a*b)\n",
    "# (a*b) = c - c1\n",
    "ab = c - c1 # indirect effect\n",
    "print(ab)"
   ]
  },
  {
   "cell_type": "code",
   "execution_count": null,
   "metadata": {},
   "outputs": [],
   "source": [
    "pg.mediation_analysis(x='X',m='M',y='Y',data=df)"
   ]
  },
  {
   "cell_type": "markdown",
   "metadata": {},
   "source": [
    "![image](fullmed.png)"
   ]
  },
  {
   "cell_type": "code",
   "execution_count": null,
   "metadata": {},
   "outputs": [],
   "source": [
    "#load in data\n",
    "ev = pd.read_csv(os.path.join(data_dir,'graphing','signal_change','mvpa_ev.csv'))\n",
    "rb = pd.read_csv(os.path.join(data_dir,'graphing','signal_change','run004_beta_values.csv'))"
   ]
  },
  {
   "cell_type": "code",
   "execution_count": null,
   "metadata": {},
   "outputs": [],
   "source": [
    "rmod = pd.DataFrame([])\n",
    "rmod['ev'] = ev.ev\n",
    "rmod['vmPFC'] = rb.early_CSp_CSm[rb.roi == 'mOFC_beta'].values\n",
    "rmod['HC'] = rb.early_CSp_CSm[rb.roi == 'hippocampus_beta'].values\n",
    "rmod['amyg'] = rb.early_CSp_CSm[rb.roi == 'amygdala_beta'].values\n",
    "rmod['group'] = np.repeat(('control','ptsd'),24)\n",
    "rmod['bgroup'] = np.repeat((0,1),24)\n",
    "crmod = rmod[rmod.group == 'control']\n",
    "prmod = rmod[rmod.group == 'ptsd']"
   ]
  },
  {
   "cell_type": "code",
   "execution_count": null,
   "metadata": {},
   "outputs": [],
   "source": [
    "crmod.head()"
   ]
  },
  {
   "cell_type": "code",
   "execution_count": null,
   "metadata": {},
   "outputs": [],
   "source": [
    "#corr_plot(crmod,'control')"
   ]
  },
  {
   "cell_type": "code",
   "execution_count": null,
   "metadata": {},
   "outputs": [],
   "source": [
    "c_res, c_dist = pg.mediation_analysis(x='ev',m=['vmPFC','HC'],y='amyg',\n",
    "                                      data=crmod,n_boot=5000,return_dist=True)"
   ]
  },
  {
   "cell_type": "code",
   "execution_count": null,
   "metadata": {},
   "outputs": [],
   "source": [
    "c_res"
   ]
  },
  {
   "cell_type": "code",
   "execution_count": null,
   "metadata": {},
   "outputs": [],
   "source": [
    "#pg.linear_regression(crmod[['ev','vmPFC','HC']],crmod.amyg)"
   ]
  },
  {
   "cell_type": "code",
   "execution_count": null,
   "metadata": {},
   "outputs": [],
   "source": [
    "fig, ax = plt.subplots()\n",
    "ax = sns.distplot(c_dist[:,0],color='blue',label='vmPFC')\n",
    "ax = sns.distplot(c_dist[:,1],color='red',label='HC')\n",
    "ax.set_title('Bootstrapped indirect effects')"
   ]
  },
  {
   "cell_type": "code",
   "execution_count": null,
   "metadata": {},
   "outputs": [],
   "source": [
    "pg.normality(c_dist[:,1])"
   ]
  },
  {
   "cell_type": "code",
   "execution_count": null,
   "metadata": {},
   "outputs": [],
   "source": [
    "total_indirect = np.sum(c_dist,axis=1)\n",
    "#np.mean(total_indirect)\n",
    "fig, ax2 = plt.subplots()\n",
    "ax2 = sns.distplot(total_indirect,color='purple',label='total')"
   ]
  },
  {
   "cell_type": "code",
   "execution_count": null,
   "metadata": {},
   "outputs": [],
   "source": [
    "corr_plot(prmod,'PTSD')"
   ]
  },
  {
   "cell_type": "code",
   "execution_count": null,
   "metadata": {},
   "outputs": [],
   "source": [
    "p_res, p_dist = pg.mediation_analysis(x='ev',m=['vmPFC','HC'],y='amyg',\n",
    "                                      data=prmod,n_boot=5000,return_dist=True)"
   ]
  },
  {
   "cell_type": "code",
   "execution_count": null,
   "metadata": {},
   "outputs": [],
   "source": [
    "p_res"
   ]
  },
  {
   "cell_type": "code",
   "execution_count": null,
   "metadata": {},
   "outputs": [],
   "source": [
    "fig, ax = plt.subplots()\n",
    "ax = sns.distplot(p_dist[:,0],color='blue',label='vmPFC')\n",
    "ax = sns.distplot(p_dist[:,1],color='red',label='HC')\n",
    "ax.set_title('Bootstrapped indirect effects')"
   ]
  },
  {
   "cell_type": "code",
   "execution_count": null,
   "metadata": {},
   "outputs": [],
   "source": [
    "ptsd_total_indirect = p_dist[:,0] - p_dist[:,1]\n",
    "fig, ax2 = plt.subplots()\n",
    "ax2 = sns.distplot(ptsd_total_indirect,color='purple',label='total')"
   ]
  }
 ],
 "metadata": {
  "kernelspec": {
   "display_name": "Python 3",
   "language": "python",
   "name": "python3"
  },
  "language_info": {
   "codemirror_mode": {
    "name": "ipython",
    "version": 3
   },
   "file_extension": ".py",
   "mimetype": "text/x-python",
   "name": "python",
   "nbconvert_exporter": "python",
   "pygments_lexer": "ipython3",
   "version": "3.6.3"
  }
 },
 "nbformat": 4,
 "nbformat_minor": 2
}
