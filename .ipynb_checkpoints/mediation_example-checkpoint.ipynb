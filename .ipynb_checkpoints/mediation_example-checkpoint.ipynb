{
 "cells": [
  {
   "cell_type": "code",
   "execution_count": 1,
   "metadata": {},
   "outputs": [
    {
     "name": "stderr",
     "output_type": "stream",
     "text": [
      "C:\\ProgramData\\Anaconda3\\lib\\site-packages\\h5py\\__init__.py:34: FutureWarning: Conversion of the second argument of issubdtype from `float` to `np.floating` is deprecated. In future, it will be treated as `np.float64 == np.dtype(float).type`.\n",
      "  from ._conv import register_converters as _register_converters\n"
     ]
    }
   ],
   "source": [
    "import os\n",
    "import numpy as np\n",
    "import pandas as pd\n",
    "import seaborn as sns\n",
    "import matplotlib.pyplot as plt\n",
    "import pingouin as pg\n",
    "from fc_config import *\n",
    "from wesanderson import wes_palettes\n",
    "from nilearn.input_data import NiftiMasker\n",
    "from glm_timing import glm_timing\n",
    "from mvpa_analysis import group_decode\n",
    "from signal_change import collect_ev\n",
    "from corr_plot import corr_plot\n",
    "from scipy.stats import linregress as lm"
   ]
  },
  {
   "cell_type": "code",
   "execution_count": 2,
   "metadata": {},
   "outputs": [],
   "source": [
    "#initialize seaborn parameters\n",
    "\n",
    "sns.set_context('notebook')\n",
    "sns.set_style('whitegrid')"
   ]
  },
  {
   "cell_type": "code",
   "execution_count": 3,
   "metadata": {},
   "outputs": [
    {
     "data": {
      "text/html": [
       "<div>\n",
       "<style scoped>\n",
       "    .dataframe tbody tr th:only-of-type {\n",
       "        vertical-align: middle;\n",
       "    }\n",
       "\n",
       "    .dataframe tbody tr th {\n",
       "        vertical-align: top;\n",
       "    }\n",
       "\n",
       "    .dataframe thead th {\n",
       "        text-align: right;\n",
       "    }\n",
       "</style>\n",
       "<table border=\"1\" class=\"dataframe\">\n",
       "  <thead>\n",
       "    <tr style=\"text-align: right;\">\n",
       "      <th></th>\n",
       "      <th>X</th>\n",
       "      <th>M</th>\n",
       "      <th>Y</th>\n",
       "      <th>Mbin</th>\n",
       "      <th>Ybin</th>\n",
       "    </tr>\n",
       "  </thead>\n",
       "  <tbody>\n",
       "    <tr>\n",
       "      <th>0</th>\n",
       "      <td>6</td>\n",
       "      <td>5</td>\n",
       "      <td>6</td>\n",
       "      <td>0</td>\n",
       "      <td>1</td>\n",
       "    </tr>\n",
       "    <tr>\n",
       "      <th>1</th>\n",
       "      <td>7</td>\n",
       "      <td>5</td>\n",
       "      <td>5</td>\n",
       "      <td>1</td>\n",
       "      <td>0</td>\n",
       "    </tr>\n",
       "    <tr>\n",
       "      <th>2</th>\n",
       "      <td>7</td>\n",
       "      <td>7</td>\n",
       "      <td>4</td>\n",
       "      <td>0</td>\n",
       "      <td>0</td>\n",
       "    </tr>\n",
       "    <tr>\n",
       "      <th>3</th>\n",
       "      <td>8</td>\n",
       "      <td>4</td>\n",
       "      <td>8</td>\n",
       "      <td>0</td>\n",
       "      <td>1</td>\n",
       "    </tr>\n",
       "    <tr>\n",
       "      <th>4</th>\n",
       "      <td>4</td>\n",
       "      <td>3</td>\n",
       "      <td>5</td>\n",
       "      <td>0</td>\n",
       "      <td>1</td>\n",
       "    </tr>\n",
       "  </tbody>\n",
       "</table>\n",
       "</div>"
      ],
      "text/plain": [
       "   X  M  Y  Mbin  Ybin\n",
       "0  6  5  6     0     1\n",
       "1  7  5  5     1     0\n",
       "2  7  7  4     0     0\n",
       "3  8  4  8     0     1\n",
       "4  4  3  5     0     1"
      ]
     },
     "execution_count": 3,
     "metadata": {},
     "output_type": "execute_result"
    }
   ],
   "source": [
    "df = pg.read_dataset('mediation') \n",
    "df.head()"
   ]
  },
  {
   "cell_type": "code",
   "execution_count": 4,
   "metadata": {},
   "outputs": [
    {
     "data": {
      "text/html": [
       "<div>\n",
       "<style scoped>\n",
       "    .dataframe tbody tr th:only-of-type {\n",
       "        vertical-align: middle;\n",
       "    }\n",
       "\n",
       "    .dataframe tbody tr th {\n",
       "        vertical-align: top;\n",
       "    }\n",
       "\n",
       "    .dataframe thead th {\n",
       "        text-align: right;\n",
       "    }\n",
       "</style>\n",
       "<table border=\"1\" class=\"dataframe\">\n",
       "  <thead>\n",
       "    <tr style=\"text-align: right;\">\n",
       "      <th></th>\n",
       "      <th>names</th>\n",
       "      <th>coef</th>\n",
       "      <th>se</th>\n",
       "      <th>T</th>\n",
       "      <th>pval</th>\n",
       "      <th>r2</th>\n",
       "      <th>adj_r2</th>\n",
       "      <th>CI[2.5%]</th>\n",
       "      <th>CI[97.5%]</th>\n",
       "    </tr>\n",
       "  </thead>\n",
       "  <tbody>\n",
       "    <tr>\n",
       "      <th>0</th>\n",
       "      <td>Intercept</td>\n",
       "      <td>2.857205</td>\n",
       "      <td>0.693213</td>\n",
       "      <td>4.121684</td>\n",
       "      <td>0.000079</td>\n",
       "      <td>0.114717</td>\n",
       "      <td>0.105683</td>\n",
       "      <td>1.481546</td>\n",
       "      <td>4.232863</td>\n",
       "    </tr>\n",
       "    <tr>\n",
       "      <th>1</th>\n",
       "      <td>X</td>\n",
       "      <td>0.396126</td>\n",
       "      <td>0.111160</td>\n",
       "      <td>3.563574</td>\n",
       "      <td>0.000567</td>\n",
       "      <td>0.114717</td>\n",
       "      <td>0.105683</td>\n",
       "      <td>0.175533</td>\n",
       "      <td>0.616719</td>\n",
       "    </tr>\n",
       "  </tbody>\n",
       "</table>\n",
       "</div>"
      ],
      "text/plain": [
       "       names      coef        se         T      pval        r2    adj_r2  \\\n",
       "0  Intercept  2.857205  0.693213  4.121684  0.000079  0.114717  0.105683   \n",
       "1          X  0.396126  0.111160  3.563574  0.000567  0.114717  0.105683   \n",
       "\n",
       "   CI[2.5%]  CI[97.5%]  \n",
       "0  1.481546   4.232863  \n",
       "1  0.175533   0.616719  "
      ]
     },
     "execution_count": 4,
     "metadata": {},
     "output_type": "execute_result"
    }
   ],
   "source": [
    "# total path\n",
    "pg.linear_regression(df.X,df.Y)"
   ]
  },
  {
   "cell_type": "code",
   "execution_count": 5,
   "metadata": {},
   "outputs": [
    {
     "data": {
      "text/html": [
       "<div>\n",
       "<style scoped>\n",
       "    .dataframe tbody tr th:only-of-type {\n",
       "        vertical-align: middle;\n",
       "    }\n",
       "\n",
       "    .dataframe tbody tr th {\n",
       "        vertical-align: top;\n",
       "    }\n",
       "\n",
       "    .dataframe thead th {\n",
       "        text-align: right;\n",
       "    }\n",
       "</style>\n",
       "<table border=\"1\" class=\"dataframe\">\n",
       "  <thead>\n",
       "    <tr style=\"text-align: right;\">\n",
       "      <th></th>\n",
       "      <th>names</th>\n",
       "      <th>coef</th>\n",
       "      <th>se</th>\n",
       "      <th>T</th>\n",
       "      <th>pval</th>\n",
       "      <th>r2</th>\n",
       "      <th>adj_r2</th>\n",
       "      <th>CI[2.5%]</th>\n",
       "      <th>CI[97.5%]</th>\n",
       "    </tr>\n",
       "  </thead>\n",
       "  <tbody>\n",
       "    <tr>\n",
       "      <th>0</th>\n",
       "      <td>Intercept</td>\n",
       "      <td>1.499518</td>\n",
       "      <td>0.589198</td>\n",
       "      <td>2.545017</td>\n",
       "      <td>1.248749e-02</td>\n",
       "      <td>0.264588</td>\n",
       "      <td>0.257084</td>\n",
       "      <td>0.330275</td>\n",
       "      <td>2.668762</td>\n",
       "    </tr>\n",
       "    <tr>\n",
       "      <th>1</th>\n",
       "      <td>X</td>\n",
       "      <td>0.561015</td>\n",
       "      <td>0.094480</td>\n",
       "      <td>5.937897</td>\n",
       "      <td>4.391362e-08</td>\n",
       "      <td>0.264588</td>\n",
       "      <td>0.257084</td>\n",
       "      <td>0.373522</td>\n",
       "      <td>0.748509</td>\n",
       "    </tr>\n",
       "  </tbody>\n",
       "</table>\n",
       "</div>"
      ],
      "text/plain": [
       "       names      coef        se         T          pval        r2    adj_r2  \\\n",
       "0  Intercept  1.499518  0.589198  2.545017  1.248749e-02  0.264588  0.257084   \n",
       "1          X  0.561015  0.094480  5.937897  4.391362e-08  0.264588  0.257084   \n",
       "\n",
       "   CI[2.5%]  CI[97.5%]  \n",
       "0  0.330275   2.668762  \n",
       "1  0.373522   0.748509  "
      ]
     },
     "execution_count": 5,
     "metadata": {},
     "output_type": "execute_result"
    }
   ],
   "source": [
    "# a path\n",
    "pg.linear_regression(df.X,df.M)"
   ]
  },
  {
   "cell_type": "code",
   "execution_count": 6,
   "metadata": {},
   "outputs": [
    {
     "data": {
      "text/html": [
       "<div>\n",
       "<style scoped>\n",
       "    .dataframe tbody tr th:only-of-type {\n",
       "        vertical-align: middle;\n",
       "    }\n",
       "\n",
       "    .dataframe tbody tr th {\n",
       "        vertical-align: top;\n",
       "    }\n",
       "\n",
       "    .dataframe thead th {\n",
       "        text-align: right;\n",
       "    }\n",
       "</style>\n",
       "<table border=\"1\" class=\"dataframe\">\n",
       "  <thead>\n",
       "    <tr style=\"text-align: right;\">\n",
       "      <th></th>\n",
       "      <th>names</th>\n",
       "      <th>coef</th>\n",
       "      <th>se</th>\n",
       "      <th>T</th>\n",
       "      <th>pval</th>\n",
       "      <th>r2</th>\n",
       "      <th>adj_r2</th>\n",
       "      <th>CI[2.5%]</th>\n",
       "      <th>CI[97.5%]</th>\n",
       "    </tr>\n",
       "  </thead>\n",
       "  <tbody>\n",
       "    <tr>\n",
       "      <th>0</th>\n",
       "      <td>Intercept</td>\n",
       "      <td>2.050721</td>\n",
       "      <td>0.447638</td>\n",
       "      <td>4.581200</td>\n",
       "      <td>1.361947e-05</td>\n",
       "      <td>0.372156</td>\n",
       "      <td>0.365749</td>\n",
       "      <td>1.162397</td>\n",
       "      <td>2.939044</td>\n",
       "    </tr>\n",
       "    <tr>\n",
       "      <th>1</th>\n",
       "      <td>M</td>\n",
       "      <td>0.654173</td>\n",
       "      <td>0.085831</td>\n",
       "      <td>7.621661</td>\n",
       "      <td>1.612674e-11</td>\n",
       "      <td>0.372156</td>\n",
       "      <td>0.365749</td>\n",
       "      <td>0.483844</td>\n",
       "      <td>0.824501</td>\n",
       "    </tr>\n",
       "  </tbody>\n",
       "</table>\n",
       "</div>"
      ],
      "text/plain": [
       "       names      coef        se         T          pval        r2    adj_r2  \\\n",
       "0  Intercept  2.050721  0.447638  4.581200  1.361947e-05  0.372156  0.365749   \n",
       "1          M  0.654173  0.085831  7.621661  1.612674e-11  0.372156  0.365749   \n",
       "\n",
       "   CI[2.5%]  CI[97.5%]  \n",
       "0  1.162397   2.939044  \n",
       "1  0.483844   0.824501  "
      ]
     },
     "execution_count": 6,
     "metadata": {},
     "output_type": "execute_result"
    }
   ],
   "source": [
    "# b path\n",
    "pg.linear_regression(df.M,df.Y)"
   ]
  },
  {
   "cell_type": "code",
   "execution_count": 7,
   "metadata": {},
   "outputs": [
    {
     "data": {
      "text/html": [
       "<div>\n",
       "<style scoped>\n",
       "    .dataframe tbody tr th:only-of-type {\n",
       "        vertical-align: middle;\n",
       "    }\n",
       "\n",
       "    .dataframe tbody tr th {\n",
       "        vertical-align: top;\n",
       "    }\n",
       "\n",
       "    .dataframe thead th {\n",
       "        text-align: right;\n",
       "    }\n",
       "</style>\n",
       "<table border=\"1\" class=\"dataframe\">\n",
       "  <thead>\n",
       "    <tr style=\"text-align: right;\">\n",
       "      <th></th>\n",
       "      <th>names</th>\n",
       "      <th>coef</th>\n",
       "      <th>se</th>\n",
       "      <th>T</th>\n",
       "      <th>pval</th>\n",
       "      <th>r2</th>\n",
       "      <th>adj_r2</th>\n",
       "      <th>CI[2.5%]</th>\n",
       "      <th>CI[97.5%]</th>\n",
       "    </tr>\n",
       "  </thead>\n",
       "  <tbody>\n",
       "    <tr>\n",
       "      <th>0</th>\n",
       "      <td>Intercept</td>\n",
       "      <td>1.904269</td>\n",
       "      <td>0.605458</td>\n",
       "      <td>3.145168</td>\n",
       "      <td>2.203831e-03</td>\n",
       "      <td>0.372999</td>\n",
       "      <td>0.360071</td>\n",
       "      <td>0.702601</td>\n",
       "      <td>3.105936</td>\n",
       "    </tr>\n",
       "    <tr>\n",
       "      <th>1</th>\n",
       "      <td>X</td>\n",
       "      <td>0.039604</td>\n",
       "      <td>0.109648</td>\n",
       "      <td>0.361190</td>\n",
       "      <td>7.187429e-01</td>\n",
       "      <td>0.372999</td>\n",
       "      <td>0.360071</td>\n",
       "      <td>-0.178018</td>\n",
       "      <td>0.257226</td>\n",
       "    </tr>\n",
       "    <tr>\n",
       "      <th>2</th>\n",
       "      <td>M</td>\n",
       "      <td>0.635495</td>\n",
       "      <td>0.100534</td>\n",
       "      <td>6.321194</td>\n",
       "      <td>7.922642e-09</td>\n",
       "      <td>0.372999</td>\n",
       "      <td>0.360071</td>\n",
       "      <td>0.435963</td>\n",
       "      <td>0.835027</td>\n",
       "    </tr>\n",
       "  </tbody>\n",
       "</table>\n",
       "</div>"
      ],
      "text/plain": [
       "       names      coef        se         T          pval        r2    adj_r2  \\\n",
       "0  Intercept  1.904269  0.605458  3.145168  2.203831e-03  0.372999  0.360071   \n",
       "1          X  0.039604  0.109648  0.361190  7.187429e-01  0.372999  0.360071   \n",
       "2          M  0.635495  0.100534  6.321194  7.922642e-09  0.372999  0.360071   \n",
       "\n",
       "   CI[2.5%]  CI[97.5%]  \n",
       "0  0.702601   3.105936  \n",
       "1 -0.178018   0.257226  \n",
       "2  0.435963   0.835027  "
      ]
     },
     "execution_count": 7,
     "metadata": {},
     "output_type": "execute_result"
    }
   ],
   "source": [
    "# c1 (direct effect)\n",
    "pg.linear_regression(df[['X','M']],df.Y)"
   ]
  },
  {
   "cell_type": "code",
   "execution_count": 8,
   "metadata": {},
   "outputs": [],
   "source": [
    "c = pg.linear_regression(df.X,df.Y)['coef'][1] # total effect\n",
    "c1 = pg.linear_regression(df[['X','M']],df.Y)['coef'][1] #direct path"
   ]
  },
  {
   "cell_type": "code",
   "execution_count": 10,
   "metadata": {},
   "outputs": [
    {
     "name": "stdout",
     "output_type": "stream",
     "text": [
      "0.3565221967280786\n"
     ]
    }
   ],
   "source": [
    "#c = c1 + (a*b)\n",
    "# (a*b) = c - c1\n",
    "ab = c - c1 # indirect effect\n",
    "print(ab)"
   ]
  },
  {
   "cell_type": "code",
   "execution_count": 11,
   "metadata": {},
   "outputs": [
    {
     "data": {
      "text/html": [
       "<div>\n",
       "<style scoped>\n",
       "    .dataframe tbody tr th:only-of-type {\n",
       "        vertical-align: middle;\n",
       "    }\n",
       "\n",
       "    .dataframe tbody tr th {\n",
       "        vertical-align: top;\n",
       "    }\n",
       "\n",
       "    .dataframe thead th {\n",
       "        text-align: right;\n",
       "    }\n",
       "</style>\n",
       "<table border=\"1\" class=\"dataframe\">\n",
       "  <thead>\n",
       "    <tr style=\"text-align: right;\">\n",
       "      <th></th>\n",
       "      <th>path</th>\n",
       "      <th>coef</th>\n",
       "      <th>se</th>\n",
       "      <th>pval</th>\n",
       "      <th>CI[2.5%]</th>\n",
       "      <th>CI[97.5%]</th>\n",
       "      <th>sig</th>\n",
       "    </tr>\n",
       "  </thead>\n",
       "  <tbody>\n",
       "    <tr>\n",
       "      <th>0</th>\n",
       "      <td>M ~ X</td>\n",
       "      <td>0.5610</td>\n",
       "      <td>0.0945</td>\n",
       "      <td>4.391362e-08</td>\n",
       "      <td>0.3735</td>\n",
       "      <td>0.7485</td>\n",
       "      <td>Yes</td>\n",
       "    </tr>\n",
       "    <tr>\n",
       "      <th>1</th>\n",
       "      <td>Y ~ M</td>\n",
       "      <td>0.6542</td>\n",
       "      <td>0.0858</td>\n",
       "      <td>1.612674e-11</td>\n",
       "      <td>0.4838</td>\n",
       "      <td>0.8245</td>\n",
       "      <td>Yes</td>\n",
       "    </tr>\n",
       "    <tr>\n",
       "      <th>2</th>\n",
       "      <td>Total</td>\n",
       "      <td>0.3961</td>\n",
       "      <td>0.1112</td>\n",
       "      <td>5.671128e-04</td>\n",
       "      <td>0.1755</td>\n",
       "      <td>0.6167</td>\n",
       "      <td>Yes</td>\n",
       "    </tr>\n",
       "    <tr>\n",
       "      <th>3</th>\n",
       "      <td>Direct</td>\n",
       "      <td>0.0396</td>\n",
       "      <td>0.1096</td>\n",
       "      <td>7.187429e-01</td>\n",
       "      <td>-0.1780</td>\n",
       "      <td>0.2572</td>\n",
       "      <td>No</td>\n",
       "    </tr>\n",
       "    <tr>\n",
       "      <th>4</th>\n",
       "      <td>Indirect</td>\n",
       "      <td>0.3565</td>\n",
       "      <td>0.0822</td>\n",
       "      <td>0.000000e+00</td>\n",
       "      <td>0.2266</td>\n",
       "      <td>0.5286</td>\n",
       "      <td>Yes</td>\n",
       "    </tr>\n",
       "  </tbody>\n",
       "</table>\n",
       "</div>"
      ],
      "text/plain": [
       "       path    coef      se          pval  CI[2.5%]  CI[97.5%]  sig\n",
       "0     M ~ X  0.5610  0.0945  4.391362e-08    0.3735     0.7485  Yes\n",
       "1     Y ~ M  0.6542  0.0858  1.612674e-11    0.4838     0.8245  Yes\n",
       "2     Total  0.3961  0.1112  5.671128e-04    0.1755     0.6167  Yes\n",
       "3    Direct  0.0396  0.1096  7.187429e-01   -0.1780     0.2572   No\n",
       "4  Indirect  0.3565  0.0822  0.000000e+00    0.2266     0.5286  Yes"
      ]
     },
     "execution_count": 11,
     "metadata": {},
     "output_type": "execute_result"
    }
   ],
   "source": [
    "pg.mediation_analysis(x='X',m='M',y='Y',data=df)"
   ]
  },
  {
   "cell_type": "code",
   "execution_count": 12,
   "metadata": {},
   "outputs": [],
   "source": [
    "#load in data\n",
    "ev = pd.read_csv(os.path.join(data_dir,'graphing','signal_change','mvpa_ev.csv'))\n",
    "rb = pd.read_csv(os.path.join(data_dir,'graphing','signal_change','run004_beta_values.csv'))"
   ]
  },
  {
   "cell_type": "code",
   "execution_count": 13,
   "metadata": {},
   "outputs": [],
   "source": [
    "rmod = pd.DataFrame([])\n",
    "rmod['ev'] = ev.ev\n",
    "rmod['vmPFC'] = rb.early_CSp_CSm[rb.roi == 'mOFC_beta'].values\n",
    "rmod['HC'] = rb.early_CSp_CSm[rb.roi == 'hippocampus_beta'].values\n",
    "rmod['amyg'] = rb.early_CSp_CSm[rb.roi == 'amygdala_beta'].values\n",
    "rmod['group'] = np.repeat(('control','ptsd'),24)\n",
    "rmod['bgroup'] = np.repeat((0,1),24)\n",
    "crmod = rmod[rmod.group == 'control']\n",
    "prmod = rmod[rmod.group == 'ptsd']"
   ]
  },
  {
   "cell_type": "code",
   "execution_count": 14,
   "metadata": {},
   "outputs": [
    {
     "data": {
      "text/html": [
       "<div>\n",
       "<style scoped>\n",
       "    .dataframe tbody tr th:only-of-type {\n",
       "        vertical-align: middle;\n",
       "    }\n",
       "\n",
       "    .dataframe tbody tr th {\n",
       "        vertical-align: top;\n",
       "    }\n",
       "\n",
       "    .dataframe thead th {\n",
       "        text-align: right;\n",
       "    }\n",
       "</style>\n",
       "<table border=\"1\" class=\"dataframe\">\n",
       "  <thead>\n",
       "    <tr style=\"text-align: right;\">\n",
       "      <th></th>\n",
       "      <th>ev</th>\n",
       "      <th>vmPFC</th>\n",
       "      <th>HC</th>\n",
       "      <th>amyg</th>\n",
       "      <th>group</th>\n",
       "      <th>bgroup</th>\n",
       "    </tr>\n",
       "  </thead>\n",
       "  <tbody>\n",
       "    <tr>\n",
       "      <th>0</th>\n",
       "      <td>0.364558</td>\n",
       "      <td>37.990</td>\n",
       "      <td>-29.160</td>\n",
       "      <td>-61.58</td>\n",
       "      <td>control</td>\n",
       "      <td>0</td>\n",
       "    </tr>\n",
       "    <tr>\n",
       "      <th>1</th>\n",
       "      <td>0.232453</td>\n",
       "      <td>-8.878</td>\n",
       "      <td>-5.106</td>\n",
       "      <td>-13.56</td>\n",
       "      <td>control</td>\n",
       "      <td>0</td>\n",
       "    </tr>\n",
       "    <tr>\n",
       "      <th>2</th>\n",
       "      <td>0.655848</td>\n",
       "      <td>22.600</td>\n",
       "      <td>-5.843</td>\n",
       "      <td>-37.00</td>\n",
       "      <td>control</td>\n",
       "      <td>0</td>\n",
       "    </tr>\n",
       "    <tr>\n",
       "      <th>3</th>\n",
       "      <td>0.106575</td>\n",
       "      <td>-28.440</td>\n",
       "      <td>-20.000</td>\n",
       "      <td>-12.81</td>\n",
       "      <td>control</td>\n",
       "      <td>0</td>\n",
       "    </tr>\n",
       "    <tr>\n",
       "      <th>4</th>\n",
       "      <td>0.477380</td>\n",
       "      <td>-15.900</td>\n",
       "      <td>-17.560</td>\n",
       "      <td>-23.37</td>\n",
       "      <td>control</td>\n",
       "      <td>0</td>\n",
       "    </tr>\n",
       "  </tbody>\n",
       "</table>\n",
       "</div>"
      ],
      "text/plain": [
       "         ev   vmPFC      HC   amyg    group  bgroup\n",
       "0  0.364558  37.990 -29.160 -61.58  control       0\n",
       "1  0.232453  -8.878  -5.106 -13.56  control       0\n",
       "2  0.655848  22.600  -5.843 -37.00  control       0\n",
       "3  0.106575 -28.440 -20.000 -12.81  control       0\n",
       "4  0.477380 -15.900 -17.560 -23.37  control       0"
      ]
     },
     "execution_count": 14,
     "metadata": {},
     "output_type": "execute_result"
    }
   ],
   "source": [
    "crmod.head()"
   ]
  },
  {
   "cell_type": "code",
   "execution_count": 15,
   "metadata": {},
   "outputs": [
    {
     "data": {
      "image/png": "[encoded data removed]",
      "text/plain": [
       "<Figure size 432x288 with 2 Axes>"
      ]
     },
     "metadata": {},
     "output_type": "display_data"
    }
   ],
   "source": [
    "corr_plot(crmod,'control')"
   ]
  },
  {
   "cell_type": "code",
   "execution_count": 16,
   "metadata": {},
   "outputs": [],
   "source": [
    "c_res, c_dist = pg.mediation_analysis(x='ev',m=['vmPFC','HC'],y='amyg',\n",
    "                                      data=crmod,n_boot=5000,return_dist=True)"
   ]
  },
  {
   "cell_type": "code",
   "execution_count": 17,
   "metadata": {},
   "outputs": [
    {
     "data": {
      "text/html": [
       "<div>\n",
       "<style scoped>\n",
       "    .dataframe tbody tr th:only-of-type {\n",
       "        vertical-align: middle;\n",
       "    }\n",
       "\n",
       "    .dataframe tbody tr th {\n",
       "        vertical-align: top;\n",
       "    }\n",
       "\n",
       "    .dataframe thead th {\n",
       "        text-align: right;\n",
       "    }\n",
       "</style>\n",
       "<table border=\"1\" class=\"dataframe\">\n",
       "  <thead>\n",
       "    <tr style=\"text-align: right;\">\n",
       "      <th></th>\n",
       "      <th>path</th>\n",
       "      <th>coef</th>\n",
       "      <th>se</th>\n",
       "      <th>pval</th>\n",
       "      <th>CI[2.5%]</th>\n",
       "      <th>CI[97.5%]</th>\n",
       "      <th>sig</th>\n",
       "    </tr>\n",
       "  </thead>\n",
       "  <tbody>\n",
       "    <tr>\n",
       "      <th>0</th>\n",
       "      <td>HC ~ X</td>\n",
       "      <td>22.8566</td>\n",
       "      <td>10.7038</td>\n",
       "      <td>0.044113</td>\n",
       "      <td>0.6582</td>\n",
       "      <td>45.0550</td>\n",
       "      <td>Yes</td>\n",
       "    </tr>\n",
       "    <tr>\n",
       "      <th>1</th>\n",
       "      <td>vmPFC ~ X</td>\n",
       "      <td>68.5317</td>\n",
       "      <td>21.5419</td>\n",
       "      <td>0.004318</td>\n",
       "      <td>23.8566</td>\n",
       "      <td>113.2069</td>\n",
       "      <td>Yes</td>\n",
       "    </tr>\n",
       "    <tr>\n",
       "      <th>2</th>\n",
       "      <td>Y ~ vmPFC</td>\n",
       "      <td>-0.3502</td>\n",
       "      <td>0.0813</td>\n",
       "      <td>0.000311</td>\n",
       "      <td>-0.5192</td>\n",
       "      <td>-0.1811</td>\n",
       "      <td>Yes</td>\n",
       "    </tr>\n",
       "    <tr>\n",
       "      <th>3</th>\n",
       "      <td>Y ~ HC</td>\n",
       "      <td>1.0809</td>\n",
       "      <td>0.1799</td>\n",
       "      <td>0.000006</td>\n",
       "      <td>0.7067</td>\n",
       "      <td>1.4550</td>\n",
       "      <td>Yes</td>\n",
       "    </tr>\n",
       "    <tr>\n",
       "      <th>4</th>\n",
       "      <td>Total</td>\n",
       "      <td>5.8580</td>\n",
       "      <td>17.6427</td>\n",
       "      <td>0.743004</td>\n",
       "      <td>-30.7306</td>\n",
       "      <td>42.4467</td>\n",
       "      <td>No</td>\n",
       "    </tr>\n",
       "    <tr>\n",
       "      <th>5</th>\n",
       "      <td>Direct</td>\n",
       "      <td>9.2348</td>\n",
       "      <td>13.3784</td>\n",
       "      <td>0.497952</td>\n",
       "      <td>-18.6720</td>\n",
       "      <td>37.1417</td>\n",
       "      <td>No</td>\n",
       "    </tr>\n",
       "    <tr>\n",
       "      <th>6</th>\n",
       "      <td>Indirect vmPFC</td>\n",
       "      <td>-26.7101</td>\n",
       "      <td>10.0190</td>\n",
       "      <td>0.012400</td>\n",
       "      <td>-51.2346</td>\n",
       "      <td>-10.2294</td>\n",
       "      <td>Yes</td>\n",
       "    </tr>\n",
       "    <tr>\n",
       "      <th>7</th>\n",
       "      <td>Indirect HC</td>\n",
       "      <td>23.3333</td>\n",
       "      <td>11.0991</td>\n",
       "      <td>0.022800</td>\n",
       "      <td>4.8011</td>\n",
       "      <td>48.9887</td>\n",
       "      <td>Yes</td>\n",
       "    </tr>\n",
       "  </tbody>\n",
       "</table>\n",
       "</div>"
      ],
      "text/plain": [
       "             path     coef       se      pval  CI[2.5%]  CI[97.5%]  sig\n",
       "0          HC ~ X  22.8566  10.7038  0.044113    0.6582    45.0550  Yes\n",
       "1       vmPFC ~ X  68.5317  21.5419  0.004318   23.8566   113.2069  Yes\n",
       "2       Y ~ vmPFC  -0.3502   0.0813  0.000311   -0.5192    -0.1811  Yes\n",
       "3          Y ~ HC   1.0809   0.1799  0.000006    0.7067     1.4550  Yes\n",
       "4           Total   5.8580  17.6427  0.743004  -30.7306    42.4467   No\n",
       "5          Direct   9.2348  13.3784  0.497952  -18.6720    37.1417   No\n",
       "6  Indirect vmPFC -26.7101  10.0190  0.012400  -51.2346   -10.2294  Yes\n",
       "7     Indirect HC  23.3333  11.0991  0.022800    4.8011    48.9887  Yes"
      ]
     },
     "execution_count": 17,
     "metadata": {},
     "output_type": "execute_result"
    }
   ],
   "source": [
    "c_res"
   ]
  },
  {
   "cell_type": "code",
   "execution_count": 18,
   "metadata": {},
   "outputs": [
    {
     "data": {
      "text/html": [
       "<div>\n",
       "<style scoped>\n",
       "    .dataframe tbody tr th:only-of-type {\n",
       "        vertical-align: middle;\n",
       "    }\n",
       "\n",
       "    .dataframe tbody tr th {\n",
       "        vertical-align: top;\n",
       "    }\n",
       "\n",
       "    .dataframe thead th {\n",
       "        text-align: right;\n",
       "    }\n",
       "</style>\n",
       "<table border=\"1\" class=\"dataframe\">\n",
       "  <thead>\n",
       "    <tr style=\"text-align: right;\">\n",
       "      <th></th>\n",
       "      <th>names</th>\n",
       "      <th>coef</th>\n",
       "      <th>se</th>\n",
       "      <th>T</th>\n",
       "      <th>pval</th>\n",
       "      <th>r2</th>\n",
       "      <th>adj_r2</th>\n",
       "      <th>CI[2.5%]</th>\n",
       "      <th>CI[97.5%]</th>\n",
       "    </tr>\n",
       "  </thead>\n",
       "  <tbody>\n",
       "    <tr>\n",
       "      <th>0</th>\n",
       "      <td>Intercept</td>\n",
       "      <td>-10.944677</td>\n",
       "      <td>7.187569</td>\n",
       "      <td>-1.522723</td>\n",
       "      <td>0.143484</td>\n",
       "      <td>0.709787</td>\n",
       "      <td>0.666255</td>\n",
       "      <td>-25.937683</td>\n",
       "      <td>4.048330</td>\n",
       "    </tr>\n",
       "    <tr>\n",
       "      <th>1</th>\n",
       "      <td>ev</td>\n",
       "      <td>9.234835</td>\n",
       "      <td>13.378413</td>\n",
       "      <td>0.690279</td>\n",
       "      <td>0.497952</td>\n",
       "      <td>0.709787</td>\n",
       "      <td>0.666255</td>\n",
       "      <td>-18.672045</td>\n",
       "      <td>37.141716</td>\n",
       "    </tr>\n",
       "    <tr>\n",
       "      <th>2</th>\n",
       "      <td>vmPFC</td>\n",
       "      <td>-0.389748</td>\n",
       "      <td>0.100306</td>\n",
       "      <td>-3.885581</td>\n",
       "      <td>0.000919</td>\n",
       "      <td>0.709787</td>\n",
       "      <td>0.666255</td>\n",
       "      <td>-0.598984</td>\n",
       "      <td>-0.180513</td>\n",
       "    </tr>\n",
       "    <tr>\n",
       "      <th>3</th>\n",
       "      <td>HC</td>\n",
       "      <td>1.020857</td>\n",
       "      <td>0.201870</td>\n",
       "      <td>5.056994</td>\n",
       "      <td>0.000060</td>\n",
       "      <td>0.709787</td>\n",
       "      <td>0.666255</td>\n",
       "      <td>0.599763</td>\n",
       "      <td>1.441951</td>\n",
       "    </tr>\n",
       "  </tbody>\n",
       "</table>\n",
       "</div>"
      ],
      "text/plain": [
       "       names       coef         se         T      pval        r2    adj_r2  \\\n",
       "0  Intercept -10.944677   7.187569 -1.522723  0.143484  0.709787  0.666255   \n",
       "1         ev   9.234835  13.378413  0.690279  0.497952  0.709787  0.666255   \n",
       "2      vmPFC  -0.389748   0.100306 -3.885581  0.000919  0.709787  0.666255   \n",
       "3         HC   1.020857   0.201870  5.056994  0.000060  0.709787  0.666255   \n",
       "\n",
       "    CI[2.5%]  CI[97.5%]  \n",
       "0 -25.937683   4.048330  \n",
       "1 -18.672045  37.141716  \n",
       "2  -0.598984  -0.180513  \n",
       "3   0.599763   1.441951  "
      ]
     },
     "execution_count": 18,
     "metadata": {},
     "output_type": "execute_result"
    }
   ],
   "source": [
    "pg.linear_regression(crmod[['ev','vmPFC','HC']],crmod.amyg)"
   ]
  },
  {
   "cell_type": "code",
   "execution_count": 19,
   "metadata": {},
   "outputs": [
    {
     "data": {
      "text/plain": [
       "Text(0.5, 1.0, 'Bootstrapped indirect effects')"
      ]
     },
     "execution_count": 19,
     "metadata": {},
     "output_type": "execute_result"
    },
    {
     "data": {
      "image/png": "[encoded data removed]",
      "text/plain": [
       "<Figure size 432x288 with 1 Axes>"
      ]
     },
     "metadata": {},
     "output_type": "display_data"
    }
   ],
   "source": [
    "fig, ax = plt.subplots()\n",
    "ax = sns.distplot(c_dist[:,0],color='blue',label='vmPFC')\n",
    "ax = sns.distplot(c_dist[:,1],color='red',label='HC')\n",
    "ax.set_title('Bootstrapped indirect effects')"
   ]
  },
  {
   "cell_type": "code",
   "execution_count": 20,
   "metadata": {},
   "outputs": [
    {
     "data": {
      "text/plain": [
       "(False, 0.0)"
      ]
     },
     "execution_count": 20,
     "metadata": {},
     "output_type": "execute_result"
    }
   ],
   "source": [
    "pg.normality(c_dist[:,1])"
   ]
  },
  {
   "cell_type": "code",
   "execution_count": 21,
   "metadata": {},
   "outputs": [
    {
     "data": {
      "text/plain": [
       "-1.3771623962612698"
      ]
     },
     "execution_count": 21,
     "metadata": {},
     "output_type": "execute_result"
    }
   ],
   "source": [
    "total_indirect = np.sum(c_dist,axis=1)\n",
    "np.mean(total_indirect)"
   ]
  },
  {
   "cell_type": "code",
   "execution_count": 22,
   "metadata": {},
   "outputs": [
    {
     "data": {
      "image/png": "[encoded data removed]",
      "text/plain": [
       "<Figure size 432x288 with 1 Axes>"
      ]
     },
     "metadata": {},
     "output_type": "display_data"
    }
   ],
   "source": [
    "fig, ax2 = plt.subplots()\n",
    "ax2 = sns.distplot(total_indirect,color='purple',label='total')"
   ]
  },
  {
   "cell_type": "code",
   "execution_count": 23,
   "metadata": {},
   "outputs": [
    {
     "data": {
      "image/png": "[encoded data removed]",
      "text/plain": [
       "<Figure size 432x288 with 2 Axes>"
      ]
     },
     "metadata": {},
     "output_type": "display_data"
    }
   ],
   "source": [
    "corr_plot(prmod,'PTSD')"
   ]
  },
  {
   "cell_type": "code",
   "execution_count": 25,
   "metadata": {},
   "outputs": [],
   "source": [
    "p_res, p_dist = pg.mediation_analysis(x='ev',m=['vmPFC','HC'],y='amyg',\n",
    "                                      data=prmod,n_boot=5000,return_dist=True)"
   ]
  },
  {
   "cell_type": "code",
   "execution_count": 26,
   "metadata": {},
   "outputs": [
    {
     "data": {
      "text/html": [
       "<div>\n",
       "<style scoped>\n",
       "    .dataframe tbody tr th:only-of-type {\n",
       "        vertical-align: middle;\n",
       "    }\n",
       "\n",
       "    .dataframe tbody tr th {\n",
       "        vertical-align: top;\n",
       "    }\n",
       "\n",
       "    .dataframe thead th {\n",
       "        text-align: right;\n",
       "    }\n",
       "</style>\n",
       "<table border=\"1\" class=\"dataframe\">\n",
       "  <thead>\n",
       "    <tr style=\"text-align: right;\">\n",
       "      <th></th>\n",
       "      <th>path</th>\n",
       "      <th>coef</th>\n",
       "      <th>se</th>\n",
       "      <th>pval</th>\n",
       "      <th>CI[2.5%]</th>\n",
       "      <th>CI[97.5%]</th>\n",
       "      <th>sig</th>\n",
       "    </tr>\n",
       "  </thead>\n",
       "  <tbody>\n",
       "    <tr>\n",
       "      <th>0</th>\n",
       "      <td>HC ~ X</td>\n",
       "      <td>3.8881</td>\n",
       "      <td>20.9599</td>\n",
       "      <td>8.545349e-01</td>\n",
       "      <td>-39.5800</td>\n",
       "      <td>47.3562</td>\n",
       "      <td>No</td>\n",
       "    </tr>\n",
       "    <tr>\n",
       "      <th>1</th>\n",
       "      <td>vmPFC ~ X</td>\n",
       "      <td>10.5326</td>\n",
       "      <td>25.2144</td>\n",
       "      <td>6.801982e-01</td>\n",
       "      <td>-41.7588</td>\n",
       "      <td>62.8241</td>\n",
       "      <td>No</td>\n",
       "    </tr>\n",
       "    <tr>\n",
       "      <th>2</th>\n",
       "      <td>Y ~ vmPFC</td>\n",
       "      <td>-0.1115</td>\n",
       "      <td>0.0977</td>\n",
       "      <td>2.663031e-01</td>\n",
       "      <td>-0.3147</td>\n",
       "      <td>0.0916</td>\n",
       "      <td>No</td>\n",
       "    </tr>\n",
       "    <tr>\n",
       "      <th>3</th>\n",
       "      <td>Y ~ HC</td>\n",
       "      <td>1.0200</td>\n",
       "      <td>0.1179</td>\n",
       "      <td>2.286208e-08</td>\n",
       "      <td>0.7748</td>\n",
       "      <td>1.2651</td>\n",
       "      <td>Yes</td>\n",
       "    </tr>\n",
       "    <tr>\n",
       "      <th>4</th>\n",
       "      <td>Total</td>\n",
       "      <td>-11.1632</td>\n",
       "      <td>22.2734</td>\n",
       "      <td>6.212166e-01</td>\n",
       "      <td>-57.3554</td>\n",
       "      <td>35.0291</td>\n",
       "      <td>No</td>\n",
       "    </tr>\n",
       "    <tr>\n",
       "      <th>5</th>\n",
       "      <td>Direct</td>\n",
       "      <td>-14.0652</td>\n",
       "      <td>9.8468</td>\n",
       "      <td>1.686052e-01</td>\n",
       "      <td>-34.6052</td>\n",
       "      <td>6.4748</td>\n",
       "      <td>No</td>\n",
       "    </tr>\n",
       "    <tr>\n",
       "      <th>6</th>\n",
       "      <td>Indirect vmPFC</td>\n",
       "      <td>-1.0602</td>\n",
       "      <td>3.2746</td>\n",
       "      <td>7.944000e-01</td>\n",
       "      <td>-13.6826</td>\n",
       "      <td>2.5070</td>\n",
       "      <td>No</td>\n",
       "    </tr>\n",
       "    <tr>\n",
       "      <th>7</th>\n",
       "      <td>Indirect HC</td>\n",
       "      <td>3.9622</td>\n",
       "      <td>23.9543</td>\n",
       "      <td>8.276000e-01</td>\n",
       "      <td>-53.0035</td>\n",
       "      <td>40.5901</td>\n",
       "      <td>No</td>\n",
       "    </tr>\n",
       "  </tbody>\n",
       "</table>\n",
       "</div>"
      ],
      "text/plain": [
       "             path     coef       se          pval  CI[2.5%]  CI[97.5%]  sig\n",
       "0          HC ~ X   3.8881  20.9599  8.545349e-01  -39.5800    47.3562   No\n",
       "1       vmPFC ~ X  10.5326  25.2144  6.801982e-01  -41.7588    62.8241   No\n",
       "2       Y ~ vmPFC  -0.1115   0.0977  2.663031e-01   -0.3147     0.0916   No\n",
       "3          Y ~ HC   1.0200   0.1179  2.286208e-08    0.7748     1.2651  Yes\n",
       "4           Total -11.1632  22.2734  6.212166e-01  -57.3554    35.0291   No\n",
       "5          Direct -14.0652   9.8468  1.686052e-01  -34.6052     6.4748   No\n",
       "6  Indirect vmPFC  -1.0602   3.2746  7.944000e-01  -13.6826     2.5070   No\n",
       "7     Indirect HC   3.9622  23.9543  8.276000e-01  -53.0035    40.5901   No"
      ]
     },
     "execution_count": 26,
     "metadata": {},
     "output_type": "execute_result"
    }
   ],
   "source": [
    "p_res"
   ]
  },
  {
   "cell_type": "code",
   "execution_count": 27,
   "metadata": {},
   "outputs": [
    {
     "data": {
      "text/plain": [
       "Text(0.5, 1.0, 'Bootstrapped indirect effects')"
      ]
     },
     "execution_count": 27,
     "metadata": {},
     "output_type": "execute_result"
    },
    {
     "data": {
      "image/png": "[encoded data removed]",
      "text/plain": [
       "<Figure size 432x288 with 1 Axes>"
      ]
     },
     "metadata": {},
     "output_type": "display_data"
    }
   ],
   "source": [
    "fig, ax = plt.subplots()\n",
    "ax = sns.distplot(p_dist[:,0],color='blue',label='vmPFC')\n",
    "ax = sns.distplot(p_dist[:,1],color='red',label='HC')\n",
    "ax.set_title('Bootstrapped indirect effects')"
   ]
  },
  {
   "cell_type": "code",
   "execution_count": 28,
   "metadata": {},
   "outputs": [],
   "source": [
    "ptsd_total_indirect = p_dist[:,0] - p_dist[:,1]"
   ]
  },
  {
   "cell_type": "code",
   "execution_count": 29,
   "metadata": {},
   "outputs": [
    {
     "data": {
      "image/png": "[encoded data removed]",
      "text/plain": [
       "<Figure size 432x288 with 1 Axes>"
      ]
     },
     "metadata": {},
     "output_type": "display_data"
    }
   ],
   "source": [
    "fig, ax2 = plt.subplots()\n",
    "ax2 = sns.distplot(ptsd_total_indirect,color='purple',label='total')"
   ]
  },
  {
   "cell_type": "code",
   "execution_count": null,
   "metadata": {},
   "outputs": [],
   "source": []
  }
 ],
 "metadata": {
  "kernelspec": {
   "display_name": "Python 3",
   "language": "python",
   "name": "python3"
  },
  "language_info": {
   "codemirror_mode": {
    "name": "ipython",
    "version": 3
   },
   "file_extension": ".py",
   "mimetype": "text/x-python",
   "name": "python",
   "nbconvert_exporter": "python",
   "pygments_lexer": "ipython3",
   "version": "3.6.3"
  }
 },
 "nbformat": 4,
 "nbformat_minor": 2
}
