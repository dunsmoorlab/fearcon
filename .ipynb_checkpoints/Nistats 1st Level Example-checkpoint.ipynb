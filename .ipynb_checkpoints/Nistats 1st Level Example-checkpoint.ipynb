{
 "cells": [
  {
   "cell_type": "code",
   "execution_count": null,
   "metadata": {
    "collapsed": true
   },
   "outputs": [],
   "source": [
    "import matplotlib.pyplot as plt\n",
    "plt.ion()"
   ]
  },
  {
   "cell_type": "code",
   "execution_count": null,
   "metadata": {
    "collapsed": true
   },
   "outputs": [],
   "source": [
    "from example import first_level"
   ]
  },
  {
   "cell_type": "code",
   "execution_count": null,
   "metadata": {},
   "outputs": [],
   "source": [
    "s1 = first_level(subj = 1, phase = 'fear_conditioning')"
   ]
  },
  {
   "cell_type": "code",
   "execution_count": null,
   "metadata": {
    "collapsed": true
   },
   "outputs": [],
   "source": [
    "#load the motion corrected functional run\n",
    "s1.load_bold('fear_conditioning')"
   ]
  },
  {
   "cell_type": "code",
   "execution_count": null,
   "metadata": {
    "collapsed": true
   },
   "outputs": [],
   "source": [
    "#create the mean functional image, which is needed for graphing\n",
    "s1.create_mean()"
   ]
  },
  {
   "cell_type": "code",
   "execution_count": null,
   "metadata": {},
   "outputs": [],
   "source": [
    "#plot the mean functional\n",
    "from nilearn.plotting import plot_img\n",
    "\n",
    "plot_img(s1.mean_func)"
   ]
  },
  {
   "cell_type": "code",
   "execution_count": null,
   "metadata": {},
   "outputs": [],
   "source": [
    "#generate the event timing for this run\n",
    "from glm_timing import glm_timing\n",
    "\n",
    "s1.events = glm_timing(1,'fear_conditioning').phase_events()\n",
    "\n",
    "s1.events[0:10]"
   ]
  },
  {
   "cell_type": "code",
   "execution_count": null,
   "metadata": {
    "collapsed": true
   },
   "outputs": [],
   "source": [
    "#initialize and the first level GLM\n",
    "from nistats.first_level_model import FirstLevelModel\n",
    "\n",
    "s1.glm = FirstLevelModel(t_r=2, slice_time_ref=0, hrf_model='glover')"
   ]
  },
  {
   "cell_type": "code",
   "execution_count": null,
   "metadata": {
    "collapsed": true
   },
   "outputs": [],
   "source": [
    "#fit it!\n",
    "s1.glm = s1.glm.fit(s1.func,s1.events)"
   ]
  },
  {
   "cell_type": "code",
   "execution_count": null,
   "metadata": {},
   "outputs": [],
   "source": [
    "#do some quality control, look at the design matrix!\n",
    "from nistats.reporting import plot_design_matrix\n",
    "\n",
    "s1.design_matrix = s1.glm.design_matrices_[0]\n",
    "plot_design_matrix(s1.design_matrix)"
   ]
  },
  {
   "cell_type": "code",
   "execution_count": null,
   "metadata": {},
   "outputs": [],
   "source": [
    "#set up your contrast matrix\n",
    "import numpy as np\n",
    "\n",
    "s1.contrast_matrix = np.eye(s1.design_matrix.shape[1])\n",
    "s1.contrasts = dict([(column, s1.contrast_matrix[i])\n",
    "                    for i, column in enumerate(s1.design_matrix.columns)])\n",
    "s1.contrasts"
   ]
  },
  {
   "cell_type": "code",
   "execution_count": null,
   "metadata": {},
   "outputs": [],
   "source": [
    "#create contrast of interest\n",
    "s1.CSplus_greater_CSmin = s1.contrasts['CS+'] - s1.contrasts['CS-']\n",
    "s1.CSplus_greater_CSmin"
   ]
  },
  {
   "cell_type": "code",
   "execution_count": null,
   "metadata": {
    "collapsed": true
   },
   "outputs": [],
   "source": [
    "#compute the contrast\n",
    "s1.z_map = s1.glm.compute_contrast(s1.CSplus_greater_CSmin, output_type='z_score')"
   ]
  },
  {
   "cell_type": "code",
   "execution_count": null,
   "metadata": {},
   "outputs": [],
   "source": [
    "#plot the results\n",
    "from nilearn.plotting import plot_stat_map\n",
    "\n",
    "plot_stat_map(s1.z_map, bg_img = s1.mean_func, threshold=2.33, display_mode='z', cut_coords=3,\n",
    "             black_bg=True, title='CSplus > CSmin')"
   ]
  }
 ],
 "metadata": {
  "kernelspec": {
   "display_name": "Python 3",
   "language": "python",
   "name": "python3"
  },
  "language_info": {
   "codemirror_mode": {
    "name": "ipython",
    "version": 3
   },
   "file_extension": ".py",
   "mimetype": "text/x-python",
   "name": "python",
   "nbconvert_exporter": "python",
   "pygments_lexer": "ipython3",
   "version": "3.6.3"
  }
 },
 "nbformat": 4,
 "nbformat_minor": 2
}
