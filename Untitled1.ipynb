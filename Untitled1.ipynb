{
 "cells": [
  {
   "cell_type": "code",
   "execution_count": 82,
   "metadata": {},
   "outputs": [],
   "source": [
    "import pandas as pd\n",
    "import numpy as np\n",
    "import os\n",
    "import pingouin as pg\n",
    "import seaborn as sns"
   ]
  },
  {
   "cell_type": "code",
   "execution_count": 52,
   "metadata": {},
   "outputs": [],
   "source": [
    "data = pd.read_csv('example_data.csv',index_col=0)"
   ]
  },
  {
   "cell_type": "code",
   "execution_count": 53,
   "metadata": {},
   "outputs": [],
   "source": [
    "cont = data[data.group == 'control'].copy()\n",
    "ptsd = data[data.group == 'ptsd'].copy()"
   ]
  },
  {
   "cell_type": "code",
   "execution_count": 54,
   "metadata": {},
   "outputs": [],
   "source": [
    "cont.drop(columns=['group','bgroup'],inplace=True)\n",
    "ptsd.drop(columns=['group','bgroup'],inplace=True)"
   ]
  },
  {
   "cell_type": "code",
   "execution_count": 62,
   "metadata": {},
   "outputs": [
    {
     "data": {
      "text/plain": [
       "array([[ 1.        ,  0.56132537,  0.41434277,  0.07061383],\n",
       "       [ 0.56132537,  1.        ,  0.10702793, -0.43844973],\n",
       "       [ 0.41434277,  0.10702793,  1.        ,  0.66355606],\n",
       "       [ 0.07061383, -0.43844973,  0.66355606,  1.        ]])"
      ]
     },
     "execution_count": 62,
     "metadata": {},
     "output_type": "execute_result"
    }
   ],
   "source": [
    "corr = np.corrcoef(cont,rowvar=False)\n",
    "corr"
   ]
  },
  {
   "cell_type": "code",
   "execution_count": 67,
   "metadata": {},
   "outputs": [
    {
     "data": {
      "text/plain": [
       "array([[0.00000000e+00, 0.00000000e+00, 0.00000000e+00, 0.00000000e+00],\n",
       "       [4.31780261e-03, 0.00000000e+00, 0.00000000e+00, 0.00000000e+00],\n",
       "       [4.41134102e-02, 7.43003935e-01, 0.00000000e+00, 0.00000000e+00],\n",
       "       [6.18645521e-01, 3.21003849e-02, 4.07998032e-04, 0.00000000e+00]])"
      ]
     },
     "execution_count": 67,
     "metadata": {},
     "output_type": "execute_result"
    }
   ],
   "source": [
    "pvals = np.zeros((4,4))\n",
    "pvals[np.tril_indices_from(pvals,k=-1)] = pg.pairwise_corr(cont)['p-unc']\n",
    "pvals[3,0], pvals[2,1] = pvals[2,1], pvals[3,0] #numpy fills in the rows first and not the columns so we have to switch 2 values"
   ]
  },
  {
   "cell_type": "code",
   "execution_count": 81,
   "metadata": {},
   "outputs": [
    {
     "data": {
      "text/plain": [
       "array([['***', '***', '***', '***'],\n",
       "       ['**', '***', '***', '***'],\n",
       "       ['*', '', '***', '***'],\n",
       "       ['', '*', '***', '***']], dtype='<U32')"
      ]
     },
     "execution_count": 81,
     "metadata": {},
     "output_type": "execute_result"
    }
   ],
   "source": [
    "ptext = pvals.astype(str)\n",
    "ptext[np.where(pvals > .05)] = ''\n",
    "ptext[np.where(pvals < .05)] = '*'\n",
    "ptext[np.where(pvals < .01)] = '**'\n",
    "ptext[np.where(pvals < .001)] = '***'"
   ]
  },
  {
   "cell_type": "code",
   "execution_count": 89,
   "metadata": {},
   "outputs": [
    {
     "data": {
      "text/plain": [
       "array([[1., 1., 1., 1.],\n",
       "       [0., 1., 1., 1.],\n",
       "       [0., 0., 1., 1.],\n",
       "       [0., 0., 0., 1.]])"
      ]
     },
     "execution_count": 89,
     "metadata": {},
     "output_type": "execute_result"
    }
   ],
   "source": [
    "mask = np.zeros((4,4))\n",
    "mask[np.triu_indices_from(mask)] = True\n",
    "mask"
   ]
  },
  {
   "cell_type": "code",
   "execution_count": 99,
   "metadata": {},
   "outputs": [
    {
     "data": {
      "text/plain": [
       "<matplotlib.axes._subplots.AxesSubplot at 0x11d8b528320>"
      ]
     },
     "execution_count": 99,
     "metadata": {},
     "output_type": "execute_result"
    },
    {
     "data": {
      "image/png": "[encoded data removed]",
      "text/plain": [
       "<Figure size 432x288 with 2 Axes>"
      ]
     },
     "metadata": {},
     "output_type": "display_data"
    }
   ],
   "source": [
    "xlabels = ['evidence','vmPFC','HC','']\n",
    "ylabels = ['','vmPFC','HC','Amygdala']\n",
    "sns.heatmap(corr,mask=mask,annot=ptext,fmt='',\n",
    "           xticklabels=xlabels,yticklabels=ylabels)"
   ]
  },
  {
   "cell_type": "code",
   "execution_count": 93,
   "metadata": {},
   "outputs": [
    {
     "data": {
      "text/plain": [
       "\u001b[1;31mSignature:\u001b[0m \u001b[0msns\u001b[0m\u001b[1;33m.\u001b[0m\u001b[0mheatmap\u001b[0m\u001b[1;33m(\u001b[0m\u001b[0mdata\u001b[0m\u001b[1;33m,\u001b[0m \u001b[0mvmin\u001b[0m\u001b[1;33m=\u001b[0m\u001b[1;32mNone\u001b[0m\u001b[1;33m,\u001b[0m \u001b[0mvmax\u001b[0m\u001b[1;33m=\u001b[0m\u001b[1;32mNone\u001b[0m\u001b[1;33m,\u001b[0m \u001b[0mcmap\u001b[0m\u001b[1;33m=\u001b[0m\u001b[1;32mNone\u001b[0m\u001b[1;33m,\u001b[0m \u001b[0mcenter\u001b[0m\u001b[1;33m=\u001b[0m\u001b[1;32mNone\u001b[0m\u001b[1;33m,\u001b[0m \u001b[0mrobust\u001b[0m\u001b[1;33m=\u001b[0m\u001b[1;32mFalse\u001b[0m\u001b[1;33m,\u001b[0m \u001b[0mannot\u001b[0m\u001b[1;33m=\u001b[0m\u001b[1;32mNone\u001b[0m\u001b[1;33m,\u001b[0m \u001b[0mfmt\u001b[0m\u001b[1;33m=\u001b[0m\u001b[1;34m'.2g'\u001b[0m\u001b[1;33m,\u001b[0m \u001b[0mannot_kws\u001b[0m\u001b[1;33m=\u001b[0m\u001b[1;32mNone\u001b[0m\u001b[1;33m,\u001b[0m \u001b[0mlinewidths\u001b[0m\u001b[1;33m=\u001b[0m\u001b[1;36m0\u001b[0m\u001b[1;33m,\u001b[0m \u001b[0mlinecolor\u001b[0m\u001b[1;33m=\u001b[0m\u001b[1;34m'white'\u001b[0m\u001b[1;33m,\u001b[0m \u001b[0mcbar\u001b[0m\u001b[1;33m=\u001b[0m\u001b[1;32mTrue\u001b[0m\u001b[1;33m,\u001b[0m \u001b[0mcbar_kws\u001b[0m\u001b[1;33m=\u001b[0m\u001b[1;32mNone\u001b[0m\u001b[1;33m,\u001b[0m \u001b[0mcbar_ax\u001b[0m\u001b[1;33m=\u001b[0m\u001b[1;32mNone\u001b[0m\u001b[1;33m,\u001b[0m \u001b[0msquare\u001b[0m\u001b[1;33m=\u001b[0m\u001b[1;32mFalse\u001b[0m\u001b[1;33m,\u001b[0m \u001b[0mxticklabels\u001b[0m\u001b[1;33m=\u001b[0m\u001b[1;34m'auto'\u001b[0m\u001b[1;33m,\u001b[0m \u001b[0myticklabels\u001b[0m\u001b[1;33m=\u001b[0m\u001b[1;34m'auto'\u001b[0m\u001b[1;33m,\u001b[0m \u001b[0mmask\u001b[0m\u001b[1;33m=\u001b[0m\u001b[1;32mNone\u001b[0m\u001b[1;33m,\u001b[0m \u001b[0max\u001b[0m\u001b[1;33m=\u001b[0m\u001b[1;32mNone\u001b[0m\u001b[1;33m,\u001b[0m \u001b[1;33m**\u001b[0m\u001b[0mkwargs\u001b[0m\u001b[1;33m)\u001b[0m\u001b[1;33m\u001b[0m\u001b[0m\n",
       "\u001b[1;31mDocstring:\u001b[0m\n",
       "Plot rectangular data as a color-encoded matrix.\n",
       "\n",
       "This is an Axes-level function and will draw the heatmap into the\n",
       "currently-active Axes if none is provided to the ``ax`` argument.  Part of\n",
       "this Axes space will be taken and used to plot a colormap, unless ``cbar``\n",
       "is False or a separate Axes is provided to ``cbar_ax``.\n",
       "\n",
       "Parameters\n",
       "----------\n",
       "data : rectangular dataset\n",
       "    2D dataset that can be coerced into an ndarray. If a Pandas DataFrame\n",
       "    is provided, the index/column information will be used to label the\n",
       "    columns and rows.\n",
       "vmin, vmax : floats, optional\n",
       "    Values to anchor the colormap, otherwise they are inferred from the\n",
       "    data and other keyword arguments.\n",
       "cmap : matplotlib colormap name or object, or list of colors, optional\n",
       "    The mapping from data values to color space. If not provided, the\n",
       "    default will depend on whether ``center`` is set.\n",
       "center : float, optional\n",
       "    The value at which to center the colormap when plotting divergant data.\n",
       "    Using this parameter will change the default ``cmap`` if none is\n",
       "    specified.\n",
       "robust : bool, optional\n",
       "    If True and ``vmin`` or ``vmax`` are absent, the colormap range is\n",
       "    computed with robust quantiles instead of the extreme values.\n",
       "annot : bool or rectangular dataset, optional\n",
       "    If True, write the data value in each cell. If an array-like with the\n",
       "    same shape as ``data``, then use this to annotate the heatmap instead\n",
       "    of the raw data.\n",
       "fmt : string, optional\n",
       "    String formatting code to use when adding annotations.\n",
       "annot_kws : dict of key, value mappings, optional\n",
       "    Keyword arguments for ``ax.text`` when ``annot`` is True.\n",
       "linewidths : float, optional\n",
       "    Width of the lines that will divide each cell.\n",
       "linecolor : color, optional\n",
       "    Color of the lines that will divide each cell.\n",
       "cbar : boolean, optional\n",
       "    Whether to draw a colorbar.\n",
       "cbar_kws : dict of key, value mappings, optional\n",
       "    Keyword arguments for `fig.colorbar`.\n",
       "cbar_ax : matplotlib Axes, optional\n",
       "    Axes in which to draw the colorbar, otherwise take space from the\n",
       "    main Axes.\n",
       "square : boolean, optional\n",
       "    If True, set the Axes aspect to \"equal\" so each cell will be\n",
       "    square-shaped.\n",
       "xticklabels, yticklabels : \"auto\", bool, list-like, or int, optional\n",
       "    If True, plot the column names of the dataframe. If False, don't plot\n",
       "    the column names. If list-like, plot these alternate labels as the\n",
       "    xticklabels. If an integer, use the column names but plot only every\n",
       "    n label. If \"auto\", try to densely plot non-overlapping labels.\n",
       "mask : boolean array or DataFrame, optional\n",
       "    If passed, data will not be shown in cells where ``mask`` is True.\n",
       "    Cells with missing values are automatically masked.\n",
       "ax : matplotlib Axes, optional\n",
       "    Axes in which to draw the plot, otherwise use the currently-active\n",
       "    Axes.\n",
       "kwargs : other keyword arguments\n",
       "    All other keyword arguments are passed to ``ax.pcolormesh``.\n",
       "\n",
       "Returns\n",
       "-------\n",
       "ax : matplotlib Axes\n",
       "    Axes object with the heatmap.\n",
       "\n",
       "See also\n",
       "--------\n",
       "clustermap : Plot a matrix using hierachical clustering to arrange the\n",
       "             rows and columns.\n",
       "\n",
       "Examples\n",
       "--------\n",
       "\n",
       "Plot a heatmap for a numpy array:\n",
       "\n",
       ".. plot::\n",
       "    :context: close-figs\n",
       "\n",
       "    >>> import numpy as np; np.random.seed(0)\n",
       "    >>> import seaborn as sns; sns.set()\n",
       "    >>> uniform_data = np.random.rand(10, 12)\n",
       "    >>> ax = sns.heatmap(uniform_data)\n",
       "\n",
       "Change the limits of the colormap:\n",
       "\n",
       ".. plot::\n",
       "    :context: close-figs\n",
       "\n",
       "    >>> ax = sns.heatmap(uniform_data, vmin=0, vmax=1)\n",
       "\n",
       "Plot a heatmap for data centered on 0 with a diverging colormap:\n",
       "\n",
       ".. plot::\n",
       "    :context: close-figs\n",
       "\n",
       "    >>> normal_data = np.random.randn(10, 12)\n",
       "    >>> ax = sns.heatmap(normal_data, center=0)\n",
       "\n",
       "Plot a dataframe with meaningful row and column labels:\n",
       "\n",
       ".. plot::\n",
       "    :context: close-figs\n",
       "\n",
       "    >>> flights = sns.load_dataset(\"flights\")\n",
       "    >>> flights = flights.pivot(\"month\", \"year\", \"passengers\")\n",
       "    >>> ax = sns.heatmap(flights)\n",
       "\n",
       "Annotate each cell with the numeric value using integer formatting:\n",
       "\n",
       ".. plot::\n",
       "    :context: close-figs\n",
       "\n",
       "    >>> ax = sns.heatmap(flights, annot=True, fmt=\"d\")\n",
       "\n",
       "Add lines between each cell:\n",
       "\n",
       ".. plot::\n",
       "    :context: close-figs\n",
       "\n",
       "    >>> ax = sns.heatmap(flights, linewidths=.5)\n",
       "\n",
       "Use a different colormap:\n",
       "\n",
       ".. plot::\n",
       "    :context: close-figs\n",
       "\n",
       "    >>> ax = sns.heatmap(flights, cmap=\"YlGnBu\")\n",
       "\n",
       "Center the colormap at a specific value:\n",
       "\n",
       ".. plot::\n",
       "    :context: close-figs\n",
       "\n",
       "    >>> ax = sns.heatmap(flights, center=flights.loc[\"January\", 1955])\n",
       "\n",
       "Plot every other column label and don't plot row labels:\n",
       "\n",
       ".. plot::\n",
       "    :context: close-figs\n",
       "\n",
       "    >>> data = np.random.randn(50, 20)\n",
       "    >>> ax = sns.heatmap(data, xticklabels=2, yticklabels=False)\n",
       "\n",
       "Don't draw a colorbar:\n",
       "\n",
       ".. plot::\n",
       "    :context: close-figs\n",
       "\n",
       "    >>> ax = sns.heatmap(flights, cbar=False)\n",
       "\n",
       "Use different axes for the colorbar:\n",
       "\n",
       ".. plot::\n",
       "    :context: close-figs\n",
       "\n",
       "    >>> grid_kws = {\"height_ratios\": (.9, .05), \"hspace\": .3}\n",
       "    >>> f, (ax, cbar_ax) = plt.subplots(2, gridspec_kw=grid_kws)\n",
       "    >>> ax = sns.heatmap(flights, ax=ax,\n",
       "    ...                  cbar_ax=cbar_ax,\n",
       "    ...                  cbar_kws={\"orientation\": \"horizontal\"})\n",
       "\n",
       "Use a mask to plot only part of a matrix\n",
       "\n",
       ".. plot::\n",
       "    :context: close-figs\n",
       "\n",
       "    >>> corr = np.corrcoef(np.random.randn(10, 200))\n",
       "    >>> mask = np.zeros_like(corr)\n",
       "    >>> mask[np.triu_indices_from(mask)] = True\n",
       "    >>> with sns.axes_style(\"white\"):\n",
       "    ...     ax = sns.heatmap(corr, mask=mask, vmax=.3, square=True)\n",
       "\u001b[1;31mFile:\u001b[0m      c:\\programdata\\anaconda3\\lib\\site-packages\\seaborn\\matrix.py\n",
       "\u001b[1;31mType:\u001b[0m      function\n"
      ]
     },
     "metadata": {},
     "output_type": "display_data"
    }
   ],
   "source": []
  },
  {
   "cell_type": "code",
   "execution_count": null,
   "metadata": {},
   "outputs": [],
   "source": []
  }
 ],
 "metadata": {
  "kernelspec": {
   "display_name": "Python 3",
   "language": "python",
   "name": "python3"
  },
  "language_info": {
   "codemirror_mode": {
    "name": "ipython",
    "version": 3
   },
   "file_extension": ".py",
   "mimetype": "text/x-python",
   "name": "python",
   "nbconvert_exporter": "python",
   "pygments_lexer": "ipython3",
   "version": "3.6.3"
  }
 },
 "nbformat": 4,
 "nbformat_minor": 2
}
